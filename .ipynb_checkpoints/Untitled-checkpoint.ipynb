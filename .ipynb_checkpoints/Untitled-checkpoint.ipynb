{
 "cells": [
  {
   "cell_type": "code",
   "execution_count": 1,
   "id": "fed5da10-9614-4074-8be9-99a9e2e42778",
   "metadata": {
    "execution": {
     "iopub.execute_input": "2023-11-20T08:29:49.246289Z",
     "iopub.status.busy": "2023-11-20T08:29:49.245304Z",
     "iopub.status.idle": "2023-11-20T08:29:49.985799Z",
     "shell.execute_reply": "2023-11-20T08:29:49.985430Z",
     "shell.execute_reply.started": "2023-11-20T08:29:49.246244Z"
    },
    "tags": []
   },
   "outputs": [],
   "source": [
    "import re\n",
    "from pathlib import Path\n",
    "import pandas as pd\n",
    "\n",
    "\n",
    "file_name = '/Users/joannakochel/repositories/personal/pretix/src/pretix/locale/pl/LC_MESSAGES/djangojs.po'"
   ]
  },
  {
   "cell_type": "code",
   "execution_count": 2,
   "id": "e7d77c11-37fe-40c5-b3c1-0af9d5aa2162",
   "metadata": {
    "execution": {
     "iopub.execute_input": "2023-11-20T08:29:51.880386Z",
     "iopub.status.busy": "2023-11-20T08:29:51.878991Z",
     "iopub.status.idle": "2023-11-20T08:29:51.896116Z",
     "shell.execute_reply": "2023-11-20T08:29:51.894952Z",
     "shell.execute_reply.started": "2023-11-20T08:29:51.880342Z"
    },
    "tags": []
   },
   "outputs": [
    {
     "data": {
      "text/plain": [
       "\"# SOME DESCRIPTIVE TITLE.\\n# Copyright (C) YEAR THE PACKAGE'S COPYRIGHT HOLDER\\n# This file is distrib\""
      ]
     },
     "execution_count": 2,
     "metadata": {},
     "output_type": "execute_result"
    }
   ],
   "source": [
    "input_text = Path(file_name).read_text()\n",
    "input_text[:100]"
   ]
  },
  {
   "cell_type": "code",
   "execution_count": 3,
   "id": "b52a737d-e98e-41df-aa27-a342cbbaadfc",
   "metadata": {
    "execution": {
     "iopub.execute_input": "2023-11-20T08:29:53.914688Z",
     "iopub.status.busy": "2023-11-20T08:29:53.913953Z",
     "iopub.status.idle": "2023-11-20T08:29:53.942755Z",
     "shell.execute_reply": "2023-11-20T08:29:53.942344Z",
     "shell.execute_reply.started": "2023-11-20T08:29:53.914648Z"
    },
    "tags": []
   },
   "outputs": [
    {
     "name": "stdout",
     "output_type": "stream",
     "text": [
      "103\n"
     ]
    },
    {
     "data": {
      "text/plain": [
       "2082"
      ]
     },
     "execution_count": 3,
     "metadata": {},
     "output_type": "execute_result"
    }
   ],
   "source": [
    "translations = re.findall('msgid (?:\\\".*?\\\"\\s*(?:\\n|$))+\\s*msgstr (?:\\\".*?\\\"\\s*(?:\\n|$))+', input_text, flags=re.MULTILINE)\n",
    "to_translate_list = []\n",
    "for t in translations:\n",
    "    regexp_match = re.search(r'msgid ((?:\\\".*?\\\"\\s*(?:\\n|$))+\\s*)msgstr ((?:\\\".*?\\\"\\s*(?:\\n|$))+)', t)\n",
    "    english = regexp_match.group(1).strip().splitlines()\n",
    "    polish = regexp_match.group(2).strip().splitlines()\n",
    "    if not [i for i in polish if i != '\"\"']:\n",
    "        for i in english:\n",
    "            i = i.strip('\"')\n",
    "            if i != '':\n",
    "                to_translate_list.append(f'{i}')\n",
    "\n",
    "print(len(to_translate_list))\n",
    "Path('translation_input.txt').write_text(\"\\n\".join(to_translate_list))"
   ]
  },
  {
   "cell_type": "code",
   "execution_count": 72,
   "id": "508a759e-6669-4a1f-a00e-a141da67851f",
   "metadata": {
    "execution": {
     "iopub.execute_input": "2023-11-19T19:17:51.729027Z",
     "iopub.status.busy": "2023-11-19T19:17:51.727438Z",
     "iopub.status.idle": "2023-11-19T19:17:51.802454Z",
     "shell.execute_reply": "2023-11-19T19:17:51.801751Z",
     "shell.execute_reply.started": "2023-11-19T19:17:51.728941Z"
    },
    "tags": []
   },
   "outputs": [
    {
     "data": {
      "text/html": [
       "<div>\n",
       "<style scoped>\n",
       "    .dataframe tbody tr th:only-of-type {\n",
       "        vertical-align: middle;\n",
       "    }\n",
       "\n",
       "    .dataframe tbody tr th {\n",
       "        vertical-align: top;\n",
       "    }\n",
       "\n",
       "    .dataframe thead th {\n",
       "        text-align: right;\n",
       "    }\n",
       "</style>\n",
       "<table border=\"1\" class=\"dataframe\">\n",
       "  <thead>\n",
       "    <tr style=\"text-align: right;\">\n",
       "      <th></th>\n",
       "      <th>Backend</th>\n",
       "      <th>done?</th>\n",
       "      <th>input</th>\n",
       "      <th>corrected translation</th>\n",
       "    </tr>\n",
       "  </thead>\n",
       "  <tbody>\n",
       "    <tr>\n",
       "      <th>0</th>\n",
       "      <td>False</td>\n",
       "      <td>True</td>\n",
       "      <td>Optional, but it might be required for you to ...</td>\n",
       "      <td>Opcjonalne, ale może być wymagane na fakturze ...</td>\n",
       "    </tr>\n",
       "    <tr>\n",
       "      <th>1</th>\n",
       "      <td>False</td>\n",
       "      <td>True</td>\n",
       "      <td>invoice depending on your and the seller’s cou...</td>\n",
       "      <td>w zależności od kraju zamieszkania i sprzedawcy.</td>\n",
       "    </tr>\n",
       "    <tr>\n",
       "      <th>2</th>\n",
       "      <td>False</td>\n",
       "      <td>True</td>\n",
       "      <td>If you choose \\\"all dates\\\", tickets will be c...</td>\n",
       "      <td>Jeśli wybierzesz \\\"wszystkie daty\\\", bilety bę...</td>\n",
       "    </tr>\n",
       "    <tr>\n",
       "      <th>3</th>\n",
       "      <td>True</td>\n",
       "      <td>False</td>\n",
       "      <td>and valid for check-in regardless of which dat...</td>\n",
       "      <td>i ważne dla odprawy, niezależnie od daty, za k...</td>\n",
       "    </tr>\n",
       "    <tr>\n",
       "      <th>4</th>\n",
       "      <td>True</td>\n",
       "      <td>False</td>\n",
       "      <td>can limit their validity through the advanced ...</td>\n",
       "      <td>Mogą jednak ograniczyć ich ważność poprzez zaa...</td>\n",
       "    </tr>\n",
       "    <tr>\n",
       "      <th>...</th>\n",
       "      <td>...</td>\n",
       "      <td>...</td>\n",
       "      <td>...</td>\n",
       "      <td>...</td>\n",
       "    </tr>\n",
       "    <tr>\n",
       "      <th>5457</th>\n",
       "      <td>False</td>\n",
       "      <td>True</td>\n",
       "      <td>from %(start_date)s</td>\n",
       "      <td>od %(start_date)s</td>\n",
       "    </tr>\n",
       "    <tr>\n",
       "      <th>5458</th>\n",
       "      <td>False</td>\n",
       "      <td>True</td>\n",
       "      <td>User profile only</td>\n",
       "      <td>Tylko profil użytkownika</td>\n",
       "    </tr>\n",
       "    <tr>\n",
       "      <th>5459</th>\n",
       "      <td>False</td>\n",
       "      <td>True</td>\n",
       "      <td>Read access</td>\n",
       "      <td>Dostępu do odczytu</td>\n",
       "    </tr>\n",
       "    <tr>\n",
       "      <th>5460</th>\n",
       "      <td>False</td>\n",
       "      <td>True</td>\n",
       "      <td>Write access</td>\n",
       "      <td>Dostęp do zapisu</td>\n",
       "    </tr>\n",
       "    <tr>\n",
       "      <th>5461</th>\n",
       "      <td>False</td>\n",
       "      <td>True</td>\n",
       "      <td>Kosovo</td>\n",
       "      <td>Kosovo</td>\n",
       "    </tr>\n",
       "  </tbody>\n",
       "</table>\n",
       "<p>5459 rows × 4 columns</p>\n",
       "</div>"
      ],
      "text/plain": [
       "     Backend  done?                                              input  \\\n",
       "0      False   True  Optional, but it might be required for you to ...   \n",
       "1      False   True  invoice depending on your and the seller’s cou...   \n",
       "2      False   True  If you choose \\\"all dates\\\", tickets will be c...   \n",
       "3       True  False  and valid for check-in regardless of which dat...   \n",
       "4       True  False  can limit their validity through the advanced ...   \n",
       "...      ...    ...                                                ...   \n",
       "5457   False   True                                from %(start_date)s   \n",
       "5458   False   True                                  User profile only   \n",
       "5459   False   True                                        Read access   \n",
       "5460   False   True                                       Write access   \n",
       "5461   False   True                                             Kosovo   \n",
       "\n",
       "                                  corrected translation  \n",
       "0     Opcjonalne, ale może być wymagane na fakturze ...  \n",
       "1      w zależności od kraju zamieszkania i sprzedawcy.  \n",
       "2     Jeśli wybierzesz \\\"wszystkie daty\\\", bilety bę...  \n",
       "3     i ważne dla odprawy, niezależnie od daty, za k...  \n",
       "4     Mogą jednak ograniczyć ich ważność poprzez zaa...  \n",
       "...                                                 ...  \n",
       "5457                                  od %(start_date)s  \n",
       "5458                           Tylko profil użytkownika  \n",
       "5459                                 Dostępu do odczytu  \n",
       "5460                                   Dostęp do zapisu  \n",
       "5461                                             Kosovo  \n",
       "\n",
       "[5459 rows x 4 columns]"
      ]
     },
     "execution_count": 72,
     "metadata": {},
     "output_type": "execute_result"
    }
   ],
   "source": [
    "corrected = pd.read_clipboard().dropna()\n",
    "corrected"
   ]
  },
  {
   "cell_type": "code",
   "execution_count": 73,
   "id": "5390725e-0e1f-4465-87ca-dd97833dd08c",
   "metadata": {
    "execution": {
     "iopub.execute_input": "2023-11-19T19:17:54.496018Z",
     "iopub.status.busy": "2023-11-19T19:17:54.495477Z",
     "iopub.status.idle": "2023-11-19T19:17:54.510655Z",
     "shell.execute_reply": "2023-11-19T19:17:54.510090Z",
     "shell.execute_reply.started": "2023-11-19T19:17:54.495974Z"
    },
    "tags": []
   },
   "outputs": [
    {
     "data": {
      "text/html": [
       "<div>\n",
       "<style scoped>\n",
       "    .dataframe tbody tr th:only-of-type {\n",
       "        vertical-align: middle;\n",
       "    }\n",
       "\n",
       "    .dataframe tbody tr th {\n",
       "        vertical-align: top;\n",
       "    }\n",
       "\n",
       "    .dataframe thead th {\n",
       "        text-align: right;\n",
       "    }\n",
       "</style>\n",
       "<table border=\"1\" class=\"dataframe\">\n",
       "  <thead>\n",
       "    <tr style=\"text-align: right;\">\n",
       "      <th></th>\n",
       "      <th>Backend</th>\n",
       "      <th>done?</th>\n",
       "      <th>input</th>\n",
       "      <th>corrected translation</th>\n",
       "    </tr>\n",
       "  </thead>\n",
       "  <tbody>\n",
       "    <tr>\n",
       "      <th>0</th>\n",
       "      <td>False</td>\n",
       "      <td>True</td>\n",
       "      <td>Optional, but it might be required for you to ...</td>\n",
       "      <td>Opcjonalne, ale może być wymagane na fakturze ...</td>\n",
       "    </tr>\n",
       "    <tr>\n",
       "      <th>1</th>\n",
       "      <td>False</td>\n",
       "      <td>True</td>\n",
       "      <td>invoice depending on your and the seller’s cou...</td>\n",
       "      <td>w zależności od kraju zamieszkania i sprzedawcy.</td>\n",
       "    </tr>\n",
       "    <tr>\n",
       "      <th>2</th>\n",
       "      <td>False</td>\n",
       "      <td>True</td>\n",
       "      <td>If you choose \\\"all dates\\\", tickets will be c...</td>\n",
       "      <td>Jeśli wybierzesz \\\"wszystkie daty\\\", bilety bę...</td>\n",
       "    </tr>\n",
       "    <tr>\n",
       "      <th>12</th>\n",
       "      <td>False</td>\n",
       "      <td>True</td>\n",
       "      <td>OpenID Connect access (required)</td>\n",
       "      <td>OpenId Connect Access (wymagany)</td>\n",
       "    </tr>\n",
       "    <tr>\n",
       "      <th>26</th>\n",
       "      <td>False</td>\n",
       "      <td>True</td>\n",
       "      <td>You can either set a minimum number of matchin...</td>\n",
       "      <td>Możesz ustawić minimalną liczbę pasujących pro...</td>\n",
       "    </tr>\n",
       "    <tr>\n",
       "      <th>...</th>\n",
       "      <td>...</td>\n",
       "      <td>...</td>\n",
       "      <td>...</td>\n",
       "      <td>...</td>\n",
       "    </tr>\n",
       "    <tr>\n",
       "      <th>5457</th>\n",
       "      <td>False</td>\n",
       "      <td>True</td>\n",
       "      <td>from %(start_date)s</td>\n",
       "      <td>od %(start_date)s</td>\n",
       "    </tr>\n",
       "    <tr>\n",
       "      <th>5458</th>\n",
       "      <td>False</td>\n",
       "      <td>True</td>\n",
       "      <td>User profile only</td>\n",
       "      <td>Tylko profil użytkownika</td>\n",
       "    </tr>\n",
       "    <tr>\n",
       "      <th>5459</th>\n",
       "      <td>False</td>\n",
       "      <td>True</td>\n",
       "      <td>Read access</td>\n",
       "      <td>Dostępu do odczytu</td>\n",
       "    </tr>\n",
       "    <tr>\n",
       "      <th>5460</th>\n",
       "      <td>False</td>\n",
       "      <td>True</td>\n",
       "      <td>Write access</td>\n",
       "      <td>Dostęp do zapisu</td>\n",
       "    </tr>\n",
       "    <tr>\n",
       "      <th>5461</th>\n",
       "      <td>False</td>\n",
       "      <td>True</td>\n",
       "      <td>Kosovo</td>\n",
       "      <td>Kosovo</td>\n",
       "    </tr>\n",
       "  </tbody>\n",
       "</table>\n",
       "<p>1030 rows × 4 columns</p>\n",
       "</div>"
      ],
      "text/plain": [
       "     Backend done?                                              input  \\\n",
       "0      False  True  Optional, but it might be required for you to ...   \n",
       "1      False  True  invoice depending on your and the seller’s cou...   \n",
       "2      False  True  If you choose \\\"all dates\\\", tickets will be c...   \n",
       "12     False  True                   OpenID Connect access (required)   \n",
       "26     False  True  You can either set a minimum number of matchin...   \n",
       "...      ...   ...                                                ...   \n",
       "5457   False  True                                from %(start_date)s   \n",
       "5458   False  True                                  User profile only   \n",
       "5459   False  True                                        Read access   \n",
       "5460   False  True                                       Write access   \n",
       "5461   False  True                                             Kosovo   \n",
       "\n",
       "                                  corrected translation  \n",
       "0     Opcjonalne, ale może być wymagane na fakturze ...  \n",
       "1      w zależności od kraju zamieszkania i sprzedawcy.  \n",
       "2     Jeśli wybierzesz \\\"wszystkie daty\\\", bilety bę...  \n",
       "12                     OpenId Connect Access (wymagany)  \n",
       "26    Możesz ustawić minimalną liczbę pasujących pro...  \n",
       "...                                                 ...  \n",
       "5457                                  od %(start_date)s  \n",
       "5458                           Tylko profil użytkownika  \n",
       "5459                                 Dostępu do odczytu  \n",
       "5460                                   Dostęp do zapisu  \n",
       "5461                                             Kosovo  \n",
       "\n",
       "[1030 rows x 4 columns]"
      ]
     },
     "execution_count": 73,
     "metadata": {},
     "output_type": "execute_result"
    }
   ],
   "source": [
    "corrected = corrected[corrected['done?'] & ~corrected['Backend']]\n",
    "corrected"
   ]
  },
  {
   "cell_type": "code",
   "execution_count": 74,
   "id": "eef8cc5b-3140-4927-963b-54f1a08e5a6c",
   "metadata": {
    "execution": {
     "iopub.execute_input": "2023-11-19T19:17:58.223160Z",
     "iopub.status.busy": "2023-11-19T19:17:58.222208Z",
     "iopub.status.idle": "2023-11-19T19:17:58.244288Z",
     "shell.execute_reply": "2023-11-19T19:17:58.243440Z",
     "shell.execute_reply.started": "2023-11-19T19:17:58.223101Z"
    },
    "tags": []
   },
   "outputs": [],
   "source": [
    "translations_dict = {}\n",
    "for row in corrected.to_dict('records'):\n",
    "    translations_dict[row['input']] = row['corrected translation']\n",
    "    if \"Don't forget to set the correct fees above!\" in row['input']:\n",
    "        print(row)"
   ]
  },
  {
   "cell_type": "code",
   "execution_count": 77,
   "id": "a63d75dd-2bbb-4b61-8d1a-506fcce85042",
   "metadata": {
    "execution": {
     "iopub.execute_input": "2023-11-19T19:18:10.291751Z",
     "iopub.status.busy": "2023-11-19T19:18:10.289979Z",
     "iopub.status.idle": "2023-11-19T19:18:10.830274Z",
     "shell.execute_reply": "2023-11-19T19:18:10.829937Z",
     "shell.execute_reply.started": "2023-11-19T19:18:10.291660Z"
    },
    "tags": []
   },
   "outputs": [
    {
     "data": {
      "text/plain": [
       "1041487"
      ]
     },
     "execution_count": 77,
     "metadata": {},
     "output_type": "execute_result"
    }
   ],
   "source": [
    "# for row in corrected.to_dict('records'):\n",
    "#     print(re.findall(f\"{row[\"input\"], input_text))\n",
    "\n",
    "input_text = Path(file_name).read_text()\n",
    "input_text[:100]\n",
    "\n",
    "translated = []\n",
    "translations = re.findall('msgid (?:\\\".*?\\\"\\s*(?:\\n|$))+\\s*msgstr (?:\\\".*?\\\"\\s*(?:\\n|$))+', input_text, flags=re.MULTILINE)\n",
    "for t in translations:\n",
    "    regexp_match = re.search(r'msgid ((?:\\\".*?\\\"\\s*(?:\\n|$))+\\s*)msgstr ((?:\\\".*?\\\"\\s*(?:\\n|$))+)', t)\n",
    "    english = regexp_match.group(1).strip().splitlines()\n",
    "    polish = regexp_match.group(2).strip().splitlines()\n",
    "    old_text = regexp_match.group(0)\n",
    "    if not [i for i in polish if i != '\"\"']:\n",
    "        if len(english) == 1:\n",
    "            try:\n",
    "                new_text = old_text.replace('msgstr \"\"', f'''msgstr \"{translations_dict[english[0].strip('\"')]}\"''')\n",
    "                translated.append(english[0].strip('\"'))\n",
    "            except KeyError:\n",
    "                continue\n",
    "        else:\n",
    "            new_text = 'msgstr \"\"'\n",
    "            found = True\n",
    "            for i in english:\n",
    "                i = i.strip('\"')\n",
    "                if i != '':\n",
    "                    try:\n",
    "                        translation = translations_dict[i.strip()]\n",
    "                        if i.endswith('.') and not translation.endswith('.'):\n",
    "                            translation += '.'\n",
    "                        if i.endswith(' ') and not translation.endswith(' '):\n",
    "                            translation += ' '\n",
    "                        translation = translation.replace('\\ n', '\\\\n')\n",
    "                        new_text += f'\\n\"{translation}\"'\n",
    "                        translated.append(i.strip())\n",
    "                    except KeyError:\n",
    "                        found = False\n",
    "                        break\n",
    "            if found:\n",
    "                new_text = old_text.replace('msgstr \"\"', new_text)\n",
    "            else:\n",
    "                continue\n",
    "        input_text = input_text.replace(regexp_match.group(0), new_text)\n",
    "    \n",
    "            \n",
    "Path(file_name).write_text(input_text)"
   ]
  },
  {
   "cell_type": "code",
   "execution_count": 78,
   "id": "dff82da0-2d47-4cb8-9f0d-3a7756ab7b4a",
   "metadata": {
    "execution": {
     "iopub.execute_input": "2023-11-19T19:18:12.087843Z",
     "iopub.status.busy": "2023-11-19T19:18:12.084927Z",
     "iopub.status.idle": "2023-11-19T19:18:12.102664Z",
     "shell.execute_reply": "2023-11-19T19:18:12.102119Z",
     "shell.execute_reply.started": "2023-11-19T19:18:12.087755Z"
    },
    "tags": []
   },
   "outputs": [
    {
     "data": {
      "text/plain": [
       "1063"
      ]
     },
     "execution_count": 78,
     "metadata": {},
     "output_type": "execute_result"
    }
   ],
   "source": [
    "len(translated)"
   ]
  },
  {
   "cell_type": "code",
   "execution_count": 79,
   "id": "bddbf766-a4bd-4bea-acef-bb9a7bffcf73",
   "metadata": {
    "execution": {
     "iopub.execute_input": "2023-11-19T19:18:15.242523Z",
     "iopub.status.busy": "2023-11-19T19:18:15.241807Z",
     "iopub.status.idle": "2023-11-19T19:18:15.261041Z",
     "shell.execute_reply": "2023-11-19T19:18:15.259360Z",
     "shell.execute_reply.started": "2023-11-19T19:18:15.242463Z"
    },
    "tags": []
   },
   "outputs": [],
   "source": [
    "for eng, pol in translations_dict.items():\n",
    "    if eng not in translated:\n",
    "        print(eng)"
   ]
  },
  {
   "cell_type": "code",
   "execution_count": null,
   "id": "2b851eeb-911e-4f05-81ee-f40d98edfa47",
   "metadata": {},
   "outputs": [],
   "source": []
  }
 ],
 "metadata": {
  "kernelspec": {
   "display_name": "Python 3 (ipykernel)",
   "language": "python",
   "name": "python3"
  },
  "language_info": {
   "codemirror_mode": {
    "name": "ipython",
    "version": 3
   },
   "file_extension": ".py",
   "mimetype": "text/x-python",
   "name": "python",
   "nbconvert_exporter": "python",
   "pygments_lexer": "ipython3",
   "version": "3.9.9"
  }
 },
 "nbformat": 4,
 "nbformat_minor": 5
}
