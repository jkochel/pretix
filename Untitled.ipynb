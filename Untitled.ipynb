{
 "cells": [
  {
   "cell_type": "code",
   "execution_count": 19,
   "id": "fed5da10-9614-4074-8be9-99a9e2e42778",
   "metadata": {
    "execution": {
     "iopub.execute_input": "2023-11-20T21:24:40.721474Z",
     "iopub.status.busy": "2023-11-20T21:24:40.719681Z",
     "iopub.status.idle": "2023-11-20T21:24:40.728027Z",
     "shell.execute_reply": "2023-11-20T21:24:40.727502Z",
     "shell.execute_reply.started": "2023-11-20T21:24:40.721388Z"
    },
    "tags": []
   },
   "outputs": [],
   "source": [
    "import re\n",
    "from pathlib import Path\n",
    "import pandas as pd\n",
    "\n",
    "\n",
    "file_name = '/Users/joannakochel/repositories/personal/pretix/src/pretix/locale/pl/LC_MESSAGES/djangojs.po'"
   ]
  },
  {
   "cell_type": "code",
   "execution_count": 20,
   "id": "e7d77c11-37fe-40c5-b3c1-0af9d5aa2162",
   "metadata": {
    "execution": {
     "iopub.execute_input": "2023-11-20T21:24:42.439318Z",
     "iopub.status.busy": "2023-11-20T21:24:42.436321Z",
     "iopub.status.idle": "2023-11-20T21:24:42.458308Z",
     "shell.execute_reply": "2023-11-20T21:24:42.457787Z",
     "shell.execute_reply.started": "2023-11-20T21:24:42.439221Z"
    },
    "tags": []
   },
   "outputs": [
    {
     "data": {
      "text/plain": [
       "\"# SOME DESCRIPTIVE TITLE.\\n# Copyright (C) YEAR THE PACKAGE'S COPYRIGHT HOLDER\\n# This file is distrib\""
      ]
     },
     "execution_count": 20,
     "metadata": {},
     "output_type": "execute_result"
    }
   ],
   "source": [
    "input_text = Path(file_name).read_text()\n",
    "input_text[:100]"
   ]
  },
  {
   "cell_type": "code",
   "execution_count": 21,
   "id": "b52a737d-e98e-41df-aa27-a342cbbaadfc",
   "metadata": {
    "execution": {
     "iopub.execute_input": "2023-11-20T21:24:43.894066Z",
     "iopub.status.busy": "2023-11-20T21:24:43.893388Z",
     "iopub.status.idle": "2023-11-20T21:24:43.921140Z",
     "shell.execute_reply": "2023-11-20T21:24:43.920534Z",
     "shell.execute_reply.started": "2023-11-20T21:24:43.894031Z"
    },
    "tags": []
   },
   "outputs": [
    {
     "name": "stdout",
     "output_type": "stream",
     "text": [
      "101\n"
     ]
    },
    {
     "data": {
      "text/plain": [
       "2098"
      ]
     },
     "execution_count": 21,
     "metadata": {},
     "output_type": "execute_result"
    }
   ],
   "source": [
    "translations = re.findall('msgid (?:\\\".*?\\\"\\s*(?:\\n|$))+\\s*msgstr (?:\\\".*?\\\"\\s*(?:\\n|$))+', input_text, flags=re.MULTILINE)\n",
    "to_translate_list = []\n",
    "for t in translations:\n",
    "    regexp_match = re.search(r'msgid ((?:\\\".*?\\\"\\s*(?:\\n|$))+\\s*)msgstr ((?:\\\".*?\\\"\\s*(?:\\n|$))+)', t)\n",
    "    english = regexp_match.group(1).strip().splitlines()\n",
    "    polish = regexp_match.group(2).strip().splitlines()\n",
    "    if not [i for i in polish if i != '\"\"']:\n",
    "        for i in english:\n",
    "            i = i.strip('\"')\n",
    "            if i != '':\n",
    "                to_translate_list.append(f'{i}')\n",
    "\n",
    "print(len(to_translate_list))\n",
    "Path('translation_input.txt').write_text(\"\\n\".join(to_translate_list))"
   ]
  },
  {
   "cell_type": "code",
   "execution_count": 22,
   "id": "508a759e-6669-4a1f-a00e-a141da67851f",
   "metadata": {
    "execution": {
     "iopub.execute_input": "2023-11-20T21:25:00.921356Z",
     "iopub.status.busy": "2023-11-20T21:25:00.919712Z",
     "iopub.status.idle": "2023-11-20T21:25:00.965409Z",
     "shell.execute_reply": "2023-11-20T21:25:00.964934Z",
     "shell.execute_reply.started": "2023-11-20T21:25:00.921273Z"
    },
    "tags": []
   },
   "outputs": [
    {
     "data": {
      "text/html": [
       "<div>\n",
       "<style scoped>\n",
       "    .dataframe tbody tr th:only-of-type {\n",
       "        vertical-align: middle;\n",
       "    }\n",
       "\n",
       "    .dataframe tbody tr th {\n",
       "        vertical-align: top;\n",
       "    }\n",
       "\n",
       "    .dataframe thead th {\n",
       "        text-align: right;\n",
       "    }\n",
       "</style>\n",
       "<table border=\"1\" class=\"dataframe\">\n",
       "  <thead>\n",
       "    <tr style=\"text-align: right;\">\n",
       "      <th></th>\n",
       "      <th>Backend</th>\n",
       "      <th>done?</th>\n",
       "      <th>input</th>\n",
       "      <th>corrected translation</th>\n",
       "    </tr>\n",
       "  </thead>\n",
       "  <tbody>\n",
       "    <tr>\n",
       "      <th>0</th>\n",
       "      <td>False</td>\n",
       "      <td>True</td>\n",
       "      <td>PayPal</td>\n",
       "      <td>PayPal</td>\n",
       "    </tr>\n",
       "    <tr>\n",
       "      <th>1</th>\n",
       "      <td>False</td>\n",
       "      <td>True</td>\n",
       "      <td>Venmo</td>\n",
       "      <td>Venmo</td>\n",
       "    </tr>\n",
       "    <tr>\n",
       "      <th>2</th>\n",
       "      <td>False</td>\n",
       "      <td>True</td>\n",
       "      <td>Apple Pay</td>\n",
       "      <td>Apple Pay</td>\n",
       "    </tr>\n",
       "    <tr>\n",
       "      <th>3</th>\n",
       "      <td>False</td>\n",
       "      <td>True</td>\n",
       "      <td>Itaú</td>\n",
       "      <td>Itaú</td>\n",
       "    </tr>\n",
       "    <tr>\n",
       "      <th>4</th>\n",
       "      <td>False</td>\n",
       "      <td>True</td>\n",
       "      <td>PayPal Credit</td>\n",
       "      <td>PayPal Credit</td>\n",
       "    </tr>\n",
       "    <tr>\n",
       "      <th>...</th>\n",
       "      <td>...</td>\n",
       "      <td>...</td>\n",
       "      <td>...</td>\n",
       "      <td>...</td>\n",
       "    </tr>\n",
       "    <tr>\n",
       "      <th>98</th>\n",
       "      <td>False</td>\n",
       "      <td>True</td>\n",
       "      <td>Next week</td>\n",
       "      <td>W przyszłym tygodniu.</td>\n",
       "    </tr>\n",
       "    <tr>\n",
       "      <th>99</th>\n",
       "      <td>False</td>\n",
       "      <td>True</td>\n",
       "      <td>Some or all ticket categories are currently so...</td>\n",
       "      <td>Niektóre lub wszystkie kategorie biletów są ob...</td>\n",
       "    </tr>\n",
       "    <tr>\n",
       "      <th>100</th>\n",
       "      <td>False</td>\n",
       "      <td>True</td>\n",
       "      <td>add yourself to the waiting list. We will then...</td>\n",
       "      <td>dodać się do listy oczekujących. Powiadomimy C...</td>\n",
       "    </tr>\n",
       "    <tr>\n",
       "      <th>101</th>\n",
       "      <td>False</td>\n",
       "      <td>True</td>\n",
       "      <td>again.</td>\n",
       "      <td>ponownie.</td>\n",
       "    </tr>\n",
       "    <tr>\n",
       "      <th>102</th>\n",
       "      <td>False</td>\n",
       "      <td>True</td>\n",
       "      <td>Load more</td>\n",
       "      <td>Załaduj więcej</td>\n",
       "    </tr>\n",
       "  </tbody>\n",
       "</table>\n",
       "<p>103 rows × 4 columns</p>\n",
       "</div>"
      ],
      "text/plain": [
       "    Backend done?                                              input  \\\n",
       "0     False  True                                             PayPal   \n",
       "1     False  True                                              Venmo   \n",
       "2     False  True                                          Apple Pay   \n",
       "3     False  True                                               Itaú   \n",
       "4     False  True                                      PayPal Credit   \n",
       "..      ...   ...                                                ...   \n",
       "98    False  True                                          Next week   \n",
       "99    False  True  Some or all ticket categories are currently so...   \n",
       "100   False  True  add yourself to the waiting list. We will then...   \n",
       "101   False  True                                             again.   \n",
       "102   False  True                                          Load more   \n",
       "\n",
       "                                 corrected translation  \n",
       "0                                               PayPal  \n",
       "1                                                Venmo  \n",
       "2                                            Apple Pay  \n",
       "3                                                 Itaú  \n",
       "4                                        PayPal Credit  \n",
       "..                                                 ...  \n",
       "98                               W przyszłym tygodniu.  \n",
       "99   Niektóre lub wszystkie kategorie biletów są ob...  \n",
       "100  dodać się do listy oczekujących. Powiadomimy C...  \n",
       "101                                          ponownie.  \n",
       "102                                     Załaduj więcej  \n",
       "\n",
       "[103 rows x 4 columns]"
      ]
     },
     "execution_count": 22,
     "metadata": {},
     "output_type": "execute_result"
    }
   ],
   "source": [
    "corrected = pd.read_clipboard().dropna()\n",
    "corrected"
   ]
  },
  {
   "cell_type": "code",
   "execution_count": 23,
   "id": "5390725e-0e1f-4465-87ca-dd97833dd08c",
   "metadata": {
    "execution": {
     "iopub.execute_input": "2023-11-20T21:25:03.745631Z",
     "iopub.status.busy": "2023-11-20T21:25:03.744872Z",
     "iopub.status.idle": "2023-11-20T21:25:03.761822Z",
     "shell.execute_reply": "2023-11-20T21:25:03.761379Z",
     "shell.execute_reply.started": "2023-11-20T21:25:03.745568Z"
    },
    "tags": []
   },
   "outputs": [
    {
     "data": {
      "text/html": [
       "<div>\n",
       "<style scoped>\n",
       "    .dataframe tbody tr th:only-of-type {\n",
       "        vertical-align: middle;\n",
       "    }\n",
       "\n",
       "    .dataframe tbody tr th {\n",
       "        vertical-align: top;\n",
       "    }\n",
       "\n",
       "    .dataframe thead th {\n",
       "        text-align: right;\n",
       "    }\n",
       "</style>\n",
       "<table border=\"1\" class=\"dataframe\">\n",
       "  <thead>\n",
       "    <tr style=\"text-align: right;\">\n",
       "      <th></th>\n",
       "      <th>Backend</th>\n",
       "      <th>done?</th>\n",
       "      <th>input</th>\n",
       "      <th>corrected translation</th>\n",
       "    </tr>\n",
       "  </thead>\n",
       "  <tbody>\n",
       "    <tr>\n",
       "      <th>0</th>\n",
       "      <td>False</td>\n",
       "      <td>True</td>\n",
       "      <td>PayPal</td>\n",
       "      <td>PayPal</td>\n",
       "    </tr>\n",
       "    <tr>\n",
       "      <th>1</th>\n",
       "      <td>False</td>\n",
       "      <td>True</td>\n",
       "      <td>Venmo</td>\n",
       "      <td>Venmo</td>\n",
       "    </tr>\n",
       "    <tr>\n",
       "      <th>2</th>\n",
       "      <td>False</td>\n",
       "      <td>True</td>\n",
       "      <td>Apple Pay</td>\n",
       "      <td>Apple Pay</td>\n",
       "    </tr>\n",
       "    <tr>\n",
       "      <th>3</th>\n",
       "      <td>False</td>\n",
       "      <td>True</td>\n",
       "      <td>Itaú</td>\n",
       "      <td>Itaú</td>\n",
       "    </tr>\n",
       "    <tr>\n",
       "      <th>4</th>\n",
       "      <td>False</td>\n",
       "      <td>True</td>\n",
       "      <td>PayPal Credit</td>\n",
       "      <td>PayPal Credit</td>\n",
       "    </tr>\n",
       "    <tr>\n",
       "      <th>...</th>\n",
       "      <td>...</td>\n",
       "      <td>...</td>\n",
       "      <td>...</td>\n",
       "      <td>...</td>\n",
       "    </tr>\n",
       "    <tr>\n",
       "      <th>98</th>\n",
       "      <td>False</td>\n",
       "      <td>True</td>\n",
       "      <td>Next week</td>\n",
       "      <td>W przyszłym tygodniu.</td>\n",
       "    </tr>\n",
       "    <tr>\n",
       "      <th>99</th>\n",
       "      <td>False</td>\n",
       "      <td>True</td>\n",
       "      <td>Some or all ticket categories are currently so...</td>\n",
       "      <td>Niektóre lub wszystkie kategorie biletów są ob...</td>\n",
       "    </tr>\n",
       "    <tr>\n",
       "      <th>100</th>\n",
       "      <td>False</td>\n",
       "      <td>True</td>\n",
       "      <td>add yourself to the waiting list. We will then...</td>\n",
       "      <td>dodać się do listy oczekujących. Powiadomimy C...</td>\n",
       "    </tr>\n",
       "    <tr>\n",
       "      <th>101</th>\n",
       "      <td>False</td>\n",
       "      <td>True</td>\n",
       "      <td>again.</td>\n",
       "      <td>ponownie.</td>\n",
       "    </tr>\n",
       "    <tr>\n",
       "      <th>102</th>\n",
       "      <td>False</td>\n",
       "      <td>True</td>\n",
       "      <td>Load more</td>\n",
       "      <td>Załaduj więcej</td>\n",
       "    </tr>\n",
       "  </tbody>\n",
       "</table>\n",
       "<p>103 rows × 4 columns</p>\n",
       "</div>"
      ],
      "text/plain": [
       "    Backend done?                                              input  \\\n",
       "0     False  True                                             PayPal   \n",
       "1     False  True                                              Venmo   \n",
       "2     False  True                                          Apple Pay   \n",
       "3     False  True                                               Itaú   \n",
       "4     False  True                                      PayPal Credit   \n",
       "..      ...   ...                                                ...   \n",
       "98    False  True                                          Next week   \n",
       "99    False  True  Some or all ticket categories are currently so...   \n",
       "100   False  True  add yourself to the waiting list. We will then...   \n",
       "101   False  True                                             again.   \n",
       "102   False  True                                          Load more   \n",
       "\n",
       "                                 corrected translation  \n",
       "0                                               PayPal  \n",
       "1                                                Venmo  \n",
       "2                                            Apple Pay  \n",
       "3                                                 Itaú  \n",
       "4                                        PayPal Credit  \n",
       "..                                                 ...  \n",
       "98                               W przyszłym tygodniu.  \n",
       "99   Niektóre lub wszystkie kategorie biletów są ob...  \n",
       "100  dodać się do listy oczekujących. Powiadomimy C...  \n",
       "101                                          ponownie.  \n",
       "102                                     Załaduj więcej  \n",
       "\n",
       "[103 rows x 4 columns]"
      ]
     },
     "execution_count": 23,
     "metadata": {},
     "output_type": "execute_result"
    }
   ],
   "source": [
    "corrected = corrected[corrected['done?'] & ~corrected['Backend']]\n",
    "corrected"
   ]
  },
  {
   "cell_type": "code",
   "execution_count": 24,
   "id": "eef8cc5b-3140-4927-963b-54f1a08e5a6c",
   "metadata": {
    "execution": {
     "iopub.execute_input": "2023-11-20T21:25:10.179857Z",
     "iopub.status.busy": "2023-11-20T21:25:10.178964Z",
     "iopub.status.idle": "2023-11-20T21:25:10.193753Z",
     "shell.execute_reply": "2023-11-20T21:25:10.192819Z",
     "shell.execute_reply.started": "2023-11-20T21:25:10.179824Z"
    },
    "tags": []
   },
   "outputs": [],
   "source": [
    "translations_dict = {}\n",
    "for row in corrected.to_dict('records'):\n",
    "    translations_dict[row['input']] = row['corrected translation']\n",
    "    if \"Don't forget to set the correct fees above!\" in row['input']:\n",
    "        print(row)"
   ]
  },
  {
   "cell_type": "code",
   "execution_count": 25,
   "id": "a63d75dd-2bbb-4b61-8d1a-506fcce85042",
   "metadata": {
    "execution": {
     "iopub.execute_input": "2023-11-20T21:25:13.720066Z",
     "iopub.status.busy": "2023-11-20T21:25:13.718978Z",
     "iopub.status.idle": "2023-11-20T21:25:13.749207Z",
     "shell.execute_reply": "2023-11-20T21:25:13.748859Z",
     "shell.execute_reply.started": "2023-11-20T21:25:13.719999Z"
    },
    "tags": []
   },
   "outputs": [
    {
     "data": {
      "text/plain": [
       "33161"
      ]
     },
     "execution_count": 25,
     "metadata": {},
     "output_type": "execute_result"
    }
   ],
   "source": [
    "# for row in corrected.to_dict('records'):\n",
    "#     print(re.findall(f\"{row[\"input\"], input_text))\n",
    "\n",
    "input_text = Path(file_name).read_text()\n",
    "input_text[:100]\n",
    "\n",
    "translated = []\n",
    "translations = re.findall('msgid (?:\\\".*?\\\"\\s*(?:\\n|$))+\\s*msgstr (?:\\\".*?\\\"\\s*(?:\\n|$))+', input_text, flags=re.MULTILINE)\n",
    "for t in translations:\n",
    "    regexp_match = re.search(r'msgid ((?:\\\".*?\\\"\\s*(?:\\n|$))+\\s*)msgstr ((?:\\\".*?\\\"\\s*(?:\\n|$))+)', t)\n",
    "    english = regexp_match.group(1).strip().splitlines()\n",
    "    polish = regexp_match.group(2).strip().splitlines()\n",
    "    old_text = regexp_match.group(0)\n",
    "    if not [i for i in polish if i != '\"\"']:\n",
    "        if len(english) == 1:\n",
    "            try:\n",
    "                new_text = old_text.replace('msgstr \"\"', f'''msgstr \"{translations_dict[english[0].strip('\"')]}\"''')\n",
    "                translated.append(english[0].strip('\"'))\n",
    "            except KeyError:\n",
    "                continue\n",
    "        else:\n",
    "            new_text = 'msgstr \"\"'\n",
    "            found = True\n",
    "            for i in english:\n",
    "                i = i.strip('\"')\n",
    "                if i != '':\n",
    "                    try:\n",
    "                        translation = translations_dict[i.strip()]\n",
    "                        if i.endswith('.') and not translation.endswith('.'):\n",
    "                            translation += '.'\n",
    "                        if i.endswith(' ') and not translation.endswith(' '):\n",
    "                            translation += ' '\n",
    "                        translation = translation.replace('\\ n', '\\\\n')\n",
    "                        new_text += f'\\n\"{translation}\"'\n",
    "                        translated.append(i.strip())\n",
    "                    except KeyError:\n",
    "                        found = False\n",
    "                        break\n",
    "            if found:\n",
    "                new_text = old_text.replace('msgstr \"\"', new_text)\n",
    "            else:\n",
    "                continue\n",
    "        input_text = input_text.replace(regexp_match.group(0), new_text)\n",
    "    \n",
    "            \n",
    "Path(file_name).write_text(input_text)"
   ]
  },
  {
   "cell_type": "code",
   "execution_count": 26,
   "id": "dff82da0-2d47-4cb8-9f0d-3a7756ab7b4a",
   "metadata": {
    "execution": {
     "iopub.execute_input": "2023-11-20T21:25:15.863456Z",
     "iopub.status.busy": "2023-11-20T21:25:15.862566Z",
     "iopub.status.idle": "2023-11-20T21:25:15.879837Z",
     "shell.execute_reply": "2023-11-20T21:25:15.879045Z",
     "shell.execute_reply.started": "2023-11-20T21:25:15.863397Z"
    },
    "tags": []
   },
   "outputs": [
    {
     "data": {
      "text/plain": [
       "99"
      ]
     },
     "execution_count": 26,
     "metadata": {},
     "output_type": "execute_result"
    }
   ],
   "source": [
    "len(translated)"
   ]
  },
  {
   "cell_type": "code",
   "execution_count": 27,
   "id": "bddbf766-a4bd-4bea-acef-bb9a7bffcf73",
   "metadata": {
    "execution": {
     "iopub.execute_input": "2023-11-20T21:25:18.238753Z",
     "iopub.status.busy": "2023-11-20T21:25:18.237795Z",
     "iopub.status.idle": "2023-11-20T21:25:18.257777Z",
     "shell.execute_reply": "2023-11-20T21:25:18.256062Z",
     "shell.execute_reply.started": "2023-11-20T21:25:18.238694Z"
    },
    "tags": []
   },
   "outputs": [
    {
     "name": "stdout",
     "output_type": "stream",
     "text": [
      "Event start\n",
      "Event end\n",
      "Event admission\n",
      "minutes\n"
     ]
    }
   ],
   "source": [
    "for eng, pol in translations_dict.items():\n",
    "    if eng not in translated:\n",
    "        print(eng)"
   ]
  },
  {
   "cell_type": "code",
   "execution_count": null,
   "id": "2b851eeb-911e-4f05-81ee-f40d98edfa47",
   "metadata": {},
   "outputs": [],
   "source": []
  }
 ],
 "metadata": {
  "kernelspec": {
   "display_name": "Python 3 (ipykernel)",
   "language": "python",
   "name": "python3"
  },
  "language_info": {
   "codemirror_mode": {
    "name": "ipython",
    "version": 3
   },
   "file_extension": ".py",
   "mimetype": "text/x-python",
   "name": "python",
   "nbconvert_exporter": "python",
   "pygments_lexer": "ipython3",
   "version": "3.9.9"
  }
 },
 "nbformat": 4,
 "nbformat_minor": 5
}
